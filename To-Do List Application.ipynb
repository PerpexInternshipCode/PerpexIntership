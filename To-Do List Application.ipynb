{
 "cells": [
  {
   "cell_type": "code",
   "execution_count": null,
   "id": "c9fdbfc2-de62-453e-934b-1285f8177a0a",
   "metadata": {},
   "outputs": [
    {
     "name": "stdout",
     "output_type": "stream",
     "text": [
      "\n",
      "--- To-Do Menu ---\n",
      "1. View tasks\n",
      "2. Add task\n",
      "3. Remove task\n",
      "4. Exit\n"
     ]
    },
    {
     "name": "stdin",
     "output_type": "stream",
     "text": [
      "Choose:  1\n"
     ]
    },
    {
     "name": "stdout",
     "output_type": "stream",
     "text": [
      "\n",
      "No tasks found!\n",
      "\n",
      "--- To-Do Menu ---\n",
      "1. View tasks\n",
      "2. Add task\n",
      "3. Remove task\n",
      "4. Exit\n"
     ]
    },
    {
     "name": "stdin",
     "output_type": "stream",
     "text": [
      "Choose:  2\n",
      "Enter task:  12\n"
     ]
    },
    {
     "name": "stdout",
     "output_type": "stream",
     "text": [
      "Task added!\n",
      "\n",
      "--- To-Do Menu ---\n",
      "1. View tasks\n",
      "2. Add task\n",
      "3. Remove task\n",
      "4. Exit\n"
     ]
    }
   ],
   "source": [
    "# Simple To-Do List Manager (Beginner Friendly)\n",
    "\n",
    "FILENAME = \"tasks.txt\"\n",
    "\n",
    "# Load tasks from file (or create empty list if file doesn't exist)\n",
    "def load_tasks():\n",
    "    try:\n",
    "        with open(FILENAME, \"r\") as file:\n",
    "            return [line.strip() for line in file]\n",
    "    except FileNotFoundError:\n",
    "        return []\n",
    "\n",
    "# Save tasks to file\n",
    "def save_tasks(tasks):\n",
    "    with open(FILENAME, \"w\") as file:\n",
    "        for task in tasks:\n",
    "            file.write(task + \"\\n\")\n",
    "\n",
    "# Show all tasks\n",
    "def show_tasks(tasks):\n",
    "    if not tasks:\n",
    "        print(\"\\nNo tasks found!\")\n",
    "    else:\n",
    "        print(\"\\nYour Tasks:\")\n",
    "        for i, task in enumerate(tasks, start=1):\n",
    "            print(f\"{i}. {task}\")\n",
    "\n",
    "# Add task\n",
    "def add_task(tasks):\n",
    "    task = input(\"Enter task: \").strip()\n",
    "    if task:\n",
    "        tasks.append(task)\n",
    "        save_tasks(tasks)\n",
    "        print(\"Task added!\")\n",
    "    else:\n",
    "        print(\"Task cannot be empty!\")\n",
    "\n",
    "# Remove task\n",
    "def remove_task(tasks):\n",
    "    show_tasks(tasks)\n",
    "    if tasks:\n",
    "        try:\n",
    "            num = int(input(\"Enter task number to remove: \"))\n",
    "            if 1 <= num <= len(tasks):\n",
    "                removed = tasks.pop(num - 1)\n",
    "                save_tasks(tasks)\n",
    "                print(f\"Removed: {removed}\")\n",
    "            else:\n",
    "                print(\"Invalid task number!\")\n",
    "        except ValueError:\n",
    "            print(\"Please enter a number!\")\n",
    "\n",
    "# Main program\n",
    "def main():\n",
    "    tasks = load_tasks()\n",
    "    \n",
    "    while True:\n",
    "        print(\"\\n--- To-Do Menu ---\")\n",
    "        print(\"1. View tasks\")\n",
    "        print(\"2. Add task\")\n",
    "        print(\"3. Remove task\")\n",
    "        print(\"4. Exit\")\n",
    "\n",
    "        choice = input(\"Choose: \")\n",
    "\n",
    "        if choice == \"1\":\n",
    "            show_tasks(tasks)\n",
    "        elif choice == \"2\":\n",
    "            add_task(tasks)\n",
    "        elif choice == \"3\":\n",
    "            remove_task(tasks)\n",
    "        elif choice == \"4\":\n",
    "            print(\"Goodbye!\")\n",
    "            break\n",
    "        else:\n",
    "            print(\"Invalid choice!\")\n",
    "\n",
    "if __name__ == \"__main__\":\n",
    "    main()\n"
   ]
  },
  {
   "cell_type": "code",
   "execution_count": null,
   "id": "89dbef56-ae1e-45c4-b5bf-2212249496ee",
   "metadata": {},
   "outputs": [],
   "source": []
  }
 ],
 "metadata": {
  "kernelspec": {
   "display_name": "Python 3 (ipykernel)",
   "language": "python",
   "name": "python3"
  },
  "language_info": {
   "codemirror_mode": {
    "name": "ipython",
    "version": 3
   },
   "file_extension": ".py",
   "mimetype": "text/x-python",
   "name": "python",
   "nbconvert_exporter": "python",
   "pygments_lexer": "ipython3",
   "version": "3.12.1"
  }
 },
 "nbformat": 4,
 "nbformat_minor": 5
}
