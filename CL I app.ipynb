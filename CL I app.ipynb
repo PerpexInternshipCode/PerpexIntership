{
 "cells": [
  {
   "cell_type": "code",
   "execution_count": null,
   "id": "bd208f8a-39e4-492d-9329-eab9c63e8193",
   "metadata": {},
   "outputs": [
    {
     "name": "stdout",
     "output_type": "stream",
     "text": [
      "CLI Calculator\n",
      "\n",
      "Select an Operation\n",
      "1. Addition (+)\n",
      "2. Subtraction (-)\n",
      "3. Multiplication (*)\n",
      "4. Division (/)\n",
      "5. Exit\n",
      "Invalid choice. Please try again.\n",
      "\n",
      "Select an Operation\n",
      "1. Addition (+)\n",
      "2. Subtraction (-)\n",
      "3. Multiplication (*)\n",
      "4. Division (/)\n",
      "5. Exit\n"
     ]
    }
   ],
   "source": [
    "def add(x, y):\n",
    "    return x + y\n",
    "\n",
    "def subtraction(x, y):\n",
    "    return x - y\n",
    "\n",
    "def multiply(x, y):\n",
    "    return x * y\n",
    "\n",
    "def divide(x, y):\n",
    "    if y == 0:\n",
    "        return \"Error: Division by zero is not allowed.\"\n",
    "    return x / y\n",
    "\n",
    "def check(value):\n",
    "    return value.replace('.', '', 1).isdigit()\n",
    "\n",
    "def calculator():\n",
    "    print(\"CLI Calculator\")\n",
    "\n",
    "    while True:\n",
    "        print(\"\\nSelect an Operation\")\n",
    "        print(\"1. Addition (+)\")\n",
    "        print(\"2. Subtraction (-)\")\n",
    "        print(\"3. Multiplication (*)\")\n",
    "        print(\"4. Division (/)\")\n",
    "        print(\"5. Exit\")\n",
    "\n",
    "        choice = input(\"Select Option: \")\n",
    "\n",
    "        if choice == '5':\n",
    "            print(\"Exiting calculator. Goodbye!\")\n",
    "            break\n",
    "\n",
    "        if choice in ['1', '2', '3', '4']:\n",
    "            num1 = input(\"Enter first number: \")\n",
    "            num2 = input(\"Enter second number: \")\n",
    "\n",
    "            if not (check(num1) and check(num2)):\n",
    "                print(\"Invalid input. Please enter valid numbers.\")\n",
    "                continue\n",
    "\n",
    "            num1 = float(num1)\n",
    "            num2 = float(num2)\n",
    "\n",
    "            if choice == '1':\n",
    "                print(\"Result:\", add(num1, num2))\n",
    "            elif choice == '2':\n",
    "                print(\"Result:\", subtraction(num1, num2))\n",
    "            elif choice == '3':\n",
    "                print(\"Result:\", multiply(num1, num2))\n",
    "            elif choice == '4':\n",
    "                print(\"Result:\", divide(num1, num2))\n",
    "        else:\n",
    "            print(\"Invalid choice. Please try again.\")\n",
    "\n",
    "calculator()\n"
   ]
  },
  {
   "cell_type": "code",
   "execution_count": null,
   "id": "66d0a529-4256-48bd-8ca8-774e0e23c9b1",
   "metadata": {},
   "outputs": [],
   "source": []
  }
 ],
 "metadata": {
  "kernelspec": {
   "display_name": "base",
   "language": "python",
   "name": "python3"
  },
  "language_info": {
   "codemirror_mode": {
    "name": "ipython",
    "version": 3
   },
   "file_extension": ".py",
   "mimetype": "text/x-python",
   "name": "python",
   "nbconvert_exporter": "python",
   "pygments_lexer": "ipython3",
   "version": "3.13.5"
  }
 },
 "nbformat": 4,
 "nbformat_minor": 5
}
