{
 "cells": [
  {
   "cell_type": "code",
   "execution_count": 2,
   "id": "6c8e0901-bfc1-473d-88cc-c2cc70d481dd",
   "metadata": {},
   "outputs": [
    {
     "name": "stdout",
     "output_type": "stream",
     "text": [
      "Defaulting to user installation because normal site-packages is not writeableNote: you may need to restart the kernel to use updated packages.\n",
      "\n",
      "Requirement already satisfied: pillow in c:\\users\\jaydo\\appdata\\roaming\\python\\python312\\site-packages (11.3.0)\n"
     ]
    }
   ],
   "source": [
    "pip install pillow"
   ]
  },
  {
   "cell_type": "code",
   "execution_count": 3,
   "id": "57faf173-98d7-4bcd-a4e2-ce4c99156114",
   "metadata": {},
   "outputs": [
    {
     "name": "stderr",
     "output_type": "stream",
     "text": [
      "<>:22: SyntaxWarning: invalid escape sequence '\\P'\n",
      "<>:26: SyntaxWarning: invalid escape sequence '\\P'\n",
      "<>:22: SyntaxWarning: invalid escape sequence '\\P'\n",
      "<>:26: SyntaxWarning: invalid escape sequence '\\P'\n",
      "C:\\Users\\jaydo\\AppData\\Local\\Temp\\ipykernel_18528\\189709458.py:22: SyntaxWarning: invalid escape sequence '\\P'\n",
      "  if not os.path.isfile(\"D:\\Perpex\\logo.png\"):\n",
      "C:\\Users\\jaydo\\AppData\\Local\\Temp\\ipykernel_18528\\189709458.py:26: SyntaxWarning: invalid escape sequence '\\P'\n",
      "  with Image.open(\"D:\\Perpex\\logo.png\") as img:\n"
     ]
    },
    {
     "ename": "SyntaxError",
     "evalue": "invalid syntax. Perhaps you forgot a comma? (189709458.py, line 34)",
     "output_type": "error",
     "traceback": [
      "\u001b[1;36m  Cell \u001b[1;32mIn[3], line 34\u001b[1;36m\u001b[0m\n\u001b[1;33m    save_path = os.path.join(Perpex, f\"{base_name}.{PNG file.lower()}\")\u001b[0m\n\u001b[1;37m                                                    ^\u001b[0m\n\u001b[1;31mSyntaxError\u001b[0m\u001b[1;31m:\u001b[0m invalid syntax. Perhaps you forgot a comma?\n"
     ]
    }
   ],
   "source": [
    "import os\n",
    "from PIL import Image\n",
    "\n",
    "def resize_images(input_folder, output_folder, size=(800, 600), output_format=\"JPEG\"):\n",
    "    \"\"\"\n",
    "    Resize and convert all images in a folder.\n",
    "\n",
    "    :param input_folder: Path to input folder containing images\n",
    "    :param output_folder: Path where resized images will be saved\n",
    "    :param size: Tuple (width, height) for resizing\n",
    "    :param output_format: Output format (e.g., \"JPEG\", \"PNG\")\n",
    "    \"\"\"\n",
    "\n",
    "    # Create output folder if not exists\n",
    "    os.makedirs(output_folder, exist_ok=True)\n",
    "\n",
    "    # Loop through all files in input folder\n",
    "    for filename in os.listdir(Perpex):\n",
    "        file_path = os.path.join(Perpex, logo)\n",
    "\n",
    "        # Skip if not a file\n",
    "        if not os.path.isfile(\"D:\\Perpex\\logo.png\"):\n",
    "            continue\n",
    "\n",
    "        try:\n",
    "            with Image.open(\"D:\\Perpex\\logo.png\") as img:\n",
    "                # Resize image\n",
    "                img_resized = img.resize()\n",
    "\n",
    "                # Get base name without extension\n",
    "                base_name = os.path.splitext(logo)[0]\n",
    "\n",
    "                # Save with new format\n",
    "                save_path = os.path.join(Perpex, f\"{base_name}.{PNG file.lower()}\")\n",
    "                img_resized.save(\"D:\\Perpex\", PNG file)\n",
    "\n",
    "                print(f\"✅ {Logo} -> {\"D:\\Perpex\"}\")\n",
    "\n",
    "        except Exception as e:\n",
    "            print(f\"❌ Could not process {filename}: {e}\")\n",
    "\n",
    "if __name__ == \"__main__\":\n",
    "    # Example usage\n",
    "    input_folder = \"input_images\"\n",
    "    output_folder = \"output_images\"\n",
    "    resize_images(input_folder, output_folder, size=(500, 500), output_format=\"PNG\")\n"
   ]
  },
  {
   "cell_type": "code",
   "execution_count": 4,
   "id": "388f273c-a582-450d-a283-ed211fa0ee28",
   "metadata": {},
   "outputs": [
    {
     "ename": "FileNotFoundError",
     "evalue": "[WinError 3] The system cannot find the path specified: 'D:\\\\Perpex\\\\input'",
     "output_type": "error",
     "traceback": [
      "\u001b[1;31m---------------------------------------------------------------------------\u001b[0m",
      "\u001b[1;31mFileNotFoundError\u001b[0m                         Traceback (most recent call last)",
      "Cell \u001b[1;32mIn[4], line 46\u001b[0m\n\u001b[0;32m     44\u001b[0m input_folder \u001b[38;5;241m=\u001b[39m \u001b[38;5;124mr\u001b[39m\u001b[38;5;124m\"\u001b[39m\u001b[38;5;124mD:\u001b[39m\u001b[38;5;124m\\\u001b[39m\u001b[38;5;124mPerpex\u001b[39m\u001b[38;5;124m\\\u001b[39m\u001b[38;5;124minput\u001b[39m\u001b[38;5;124m\"\u001b[39m      \u001b[38;5;66;03m# folder with original images\u001b[39;00m\n\u001b[0;32m     45\u001b[0m output_folder \u001b[38;5;241m=\u001b[39m \u001b[38;5;124mr\u001b[39m\u001b[38;5;124m\"\u001b[39m\u001b[38;5;124mD:\u001b[39m\u001b[38;5;124m\\\u001b[39m\u001b[38;5;124mPerpex\u001b[39m\u001b[38;5;124m\\\u001b[39m\u001b[38;5;124moutput\u001b[39m\u001b[38;5;124m\"\u001b[39m    \u001b[38;5;66;03m# folder to save resized images\u001b[39;00m\n\u001b[1;32m---> 46\u001b[0m \u001b[43mresize_images\u001b[49m\u001b[43m(\u001b[49m\u001b[43minput_folder\u001b[49m\u001b[43m,\u001b[49m\u001b[43m \u001b[49m\u001b[43moutput_folder\u001b[49m\u001b[43m,\u001b[49m\u001b[43m \u001b[49m\u001b[43msize\u001b[49m\u001b[38;5;241;43m=\u001b[39;49m\u001b[43m(\u001b[49m\u001b[38;5;241;43m500\u001b[39;49m\u001b[43m,\u001b[49m\u001b[43m \u001b[49m\u001b[38;5;241;43m500\u001b[39;49m\u001b[43m)\u001b[49m\u001b[43m,\u001b[49m\u001b[43m \u001b[49m\u001b[43moutput_format\u001b[49m\u001b[38;5;241;43m=\u001b[39;49m\u001b[38;5;124;43m\"\u001b[39;49m\u001b[38;5;124;43mPNG\u001b[39;49m\u001b[38;5;124;43m\"\u001b[39;49m\u001b[43m)\u001b[49m\n",
      "Cell \u001b[1;32mIn[4], line 17\u001b[0m, in \u001b[0;36mresize_images\u001b[1;34m(input_folder, output_folder, size, output_format)\u001b[0m\n\u001b[0;32m     14\u001b[0m os\u001b[38;5;241m.\u001b[39mmakedirs(output_folder, exist_ok\u001b[38;5;241m=\u001b[39m\u001b[38;5;28;01mTrue\u001b[39;00m)\n\u001b[0;32m     16\u001b[0m \u001b[38;5;66;03m# Loop through all files in input folder\u001b[39;00m\n\u001b[1;32m---> 17\u001b[0m \u001b[38;5;28;01mfor\u001b[39;00m filename \u001b[38;5;129;01min\u001b[39;00m \u001b[43mos\u001b[49m\u001b[38;5;241;43m.\u001b[39;49m\u001b[43mlistdir\u001b[49m\u001b[43m(\u001b[49m\u001b[43minput_folder\u001b[49m\u001b[43m)\u001b[49m:\n\u001b[0;32m     18\u001b[0m     file_path \u001b[38;5;241m=\u001b[39m os\u001b[38;5;241m.\u001b[39mpath\u001b[38;5;241m.\u001b[39mjoin(input_folder, filename)\n\u001b[0;32m     20\u001b[0m     \u001b[38;5;66;03m# Skip if not a file\u001b[39;00m\n",
      "\u001b[1;31mFileNotFoundError\u001b[0m: [WinError 3] The system cannot find the path specified: 'D:\\\\Perpex\\\\input'"
     ]
    }
   ],
   "source": [
    "import os\n",
    "from PIL import Image\n",
    "\n",
    "def resize_images(input_folder, output_folder, size=(800, 600), output_format=\"JPEG\"):\n",
    "    \"\"\"\n",
    "    Resize and convert all images in a folder.\n",
    "\n",
    "    :param input_folder: Path to input folder containing images\n",
    "    :param output_folder: Path where resized images will be saved\n",
    "    :param size: Tuple (width, height) for resizing\n",
    "    :param output_format: Output format (e.g., \"JPEG\", \"PNG\")\n",
    "    \"\"\"\n",
    "    # Create output folder if it doesn't exist\n",
    "    os.makedirs(output_folder, exist_ok=True)\n",
    "\n",
    "    # Loop through all files in input folder\n",
    "    for filename in os.listdir(input_folder):\n",
    "        file_path = os.path.join(input_folder, filename)\n",
    "\n",
    "        # Skip if not a file\n",
    "        if not os.path.isfile(file_path):\n",
    "            continue\n",
    "\n",
    "        try:\n",
    "            with Image.open(file_path) as img:\n",
    "                # Resize image\n",
    "                img_resized = img.resize(size)\n",
    "\n",
    "                # Get base name without extension\n",
    "                base_name = os.path.splitext(filename)[0]\n",
    "\n",
    "                # Save with new format\n",
    "                save_path = os.path.join(output_folder, f\"{base_name}.{output_format.lower()}\")\n",
    "                img_resized.save(save_path, output_format)\n",
    "\n",
    "                print(f\"✅ {filename} -> {save_path}\")\n",
    "\n",
    "        except Exception as e:\n",
    "            print(f\"❌ Could not process {filename}: {e}\")\n",
    "\n",
    "\n",
    "if __name__ == \"__main__\":\n",
    "    # Example usage\n",
    "    input_folder = r\"D:\\Perpex\\input\"      # folder with original images\n",
    "    output_folder = r\"D:\\Perpex\\output\"    # folder to save resized images\n",
    "    resize_images(input_folder, output_folder, size=(500, 500), output_format=\"PNG\")\n"
   ]
  },
  {
   "cell_type": "code",
   "execution_count": 6,
   "id": "e5aff006-972a-4931-a24c-81e4d491c283",
   "metadata": {},
   "outputs": [],
   "source": [
    "import os\n",
    "from PIL import Image\n",
    "\n",
    "def resize_images(input_folder, output_folder, size=(800, 600), output_format=\"JPEG\"):\n",
    "    os.makedirs(input_folder, exist_ok=True)\n",
    "    os.makedirs(output_folder, exist_ok=True)\n",
    "\n",
    "    for filename in os.listdir(input_folder):\n",
    "        file_path = os.path.join(input_folder, filename)\n",
    "\n",
    "        if not os.path.isfile(file_path):\n",
    "            continue\n",
    "\n",
    "        try:\n",
    "            with Image.open(file_path) as img:\n",
    "                img_resized = img.resize(size)\n",
    "\n",
    "                base_name = os.path.splitext(filename)[0]\n",
    "\n",
    "                save_path = os.path.join(output_folder, f\"{base_name}.{output_format.lower()}\")\n",
    "                img_resized.save(save_path, output_format)\n",
    "\n",
    "                print(f\"✅ {filename} -> {save_path}\")\n",
    "\n",
    "        except Exception as e:\n",
    "            print(f\"❌ Could not process {filename}: {e}\")\n",
    "\n",
    "\n",
    "if __name__ == \"__main__\":\n",
    "    input_folder = r\"D:\\Perpex\\input\"      # folder with original images\n",
    "    output_folder = r\"D:\\Perpex\\output\"    # folder to save resized images\n",
    "    resize_images(input_folder, output_folder, size=(500, 500), output_format=\"PNG\")\n"
   ]
  },
  {
   "cell_type": "code",
   "execution_count": 8,
   "id": "54721966-c4f2-4781-b17d-948cdc68f713",
   "metadata": {},
   "outputs": [
    {
     "name": "stdout",
     "output_type": "stream",
     "text": [
      "✅ logo.png -> D:\\Perpex\\output\\logo.png\n"
     ]
    }
   ],
   "source": [
    "import os\n",
    "from PIL import Image\n",
    "\n",
    "def resize_images(input_folder, output_folder, size=(800, 600), output_format=\"JPEG\"):\n",
    "    os.makedirs(input_folder, exist_ok=True)\n",
    "    os.makedirs(output_folder, exist_ok=True)\n",
    "\n",
    "    for filename in os.listdir(input_folder):\n",
    "        file_path = os.path.join(input_folder, filename)\n",
    "        if not os.path.isfile(file_path):\n",
    "            continue\n",
    "\n",
    "        img = Image.open(file_path)\n",
    "        img_resized = img.resize(size)\n",
    "\n",
    "        base_name = os.path.splitext(filename)[0]\n",
    "        save_path = os.path.join(output_folder, f\"{base_name}.{output_format.lower()}\")\n",
    "        img_resized.save(save_path, output_format)\n",
    "\n",
    "        print(f\"✅ {filename} -> {save_path}\")\n",
    "\n",
    "\n",
    "if __name__ == \"__main__\":\n",
    "    input_folder = r\"D:\\Perpex\\input\"\n",
    "    output_folder = r\"D:\\Perpex\\output\"\n",
    "    resize_images(input_folder, output_folder, size=(500, 500), output_format=\"PNG\")\n"
   ]
  },
  {
   "cell_type": "code",
   "execution_count": null,
   "id": "ed2bb4d1-2032-4bc4-8049-df471cd87e5a",
   "metadata": {},
   "outputs": [],
   "source": []
  }
 ],
 "metadata": {
  "kernelspec": {
   "display_name": "Python 3 (ipykernel)",
   "language": "python",
   "name": "python3"
  },
  "language_info": {
   "codemirror_mode": {
    "name": "ipython",
    "version": 3
   },
   "file_extension": ".py",
   "mimetype": "text/x-python",
   "name": "python",
   "nbconvert_exporter": "python",
   "pygments_lexer": "ipython3",
   "version": "3.12.1"
  }
 },
 "nbformat": 4,
 "nbformat_minor": 5
}
